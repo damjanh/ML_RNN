{
 "cells": [
  {
   "cell_type": "markdown",
   "metadata": {},
   "source": [
    "# Recurrent Nerual Network"
   ]
  },
  {
   "cell_type": "markdown",
   "metadata": {},
   "source": [
    "## Data Preprocessing"
   ]
  },
  {
   "cell_type": "markdown",
   "metadata": {},
   "source": [
    "### Importing libraries"
   ]
  },
  {
   "cell_type": "code",
   "execution_count": 6,
   "metadata": {},
   "outputs": [],
   "source": [
    "import numpy as np\n",
    "import matplotlib.pyplot as plt\n",
    "import pandas as pd"
   ]
  },
  {
   "cell_type": "markdown",
   "metadata": {},
   "source": [
    "### Import the training set"
   ]
  },
  {
   "cell_type": "code",
   "execution_count": 7,
   "metadata": {},
   "outputs": [],
   "source": [
    "dataset_train = pd.read_csv('Google_Stock_Price_Train.csv')\n",
    "training_set = dataset_train.iloc[:, 1:2].values"
   ]
  },
  {
   "cell_type": "markdown",
   "metadata": {},
   "source": [
    "### Feature Scaling"
   ]
  },
  {
   "cell_type": "code",
   "execution_count": 8,
   "metadata": {},
   "outputs": [],
   "source": [
    "from sklearn.preprocessing import MinMaxScaler\n",
    "sc = MinMaxScaler(feature_range=(0, 1))\n",
    "\n",
    "training_set_scaled = sc.fit_transform(training_set)"
   ]
  },
  {
   "cell_type": "markdown",
   "metadata": {},
   "source": [
    "### Creating data structure"
   ]
  },
  {
   "cell_type": "code",
   "execution_count": 10,
   "metadata": {},
   "outputs": [],
   "source": [
    "X_train = []\n",
    "y_train = []\n",
    "for i in range(60, 1258):\n",
    "    X_train.append(training_set_scaled[i-60:i, 0])\n",
    "    y_train.append(training_set_scaled[i, 0])\n",
    "\n",
    "X_train = np.array(X_train)\n",
    "y_train = np.array(y_train)"
   ]
  },
  {
   "cell_type": "markdown",
   "metadata": {},
   "source": [
    "### Reshaping"
   ]
  },
  {
   "cell_type": "code",
   "execution_count": 11,
   "metadata": {},
   "outputs": [],
   "source": [
    "X_train = np.reshape(X_train, newshape=(X_train.shape[0], X_train.shape[1], 1))"
   ]
  },
  {
   "cell_type": "markdown",
   "metadata": {},
   "source": [
    "## Building the RNN"
   ]
  },
  {
   "cell_type": "markdown",
   "metadata": {},
   "source": [
    "### Import keras libs"
   ]
  },
  {
   "cell_type": "code",
   "execution_count": 14,
   "metadata": {},
   "outputs": [],
   "source": [
    "from keras.models import Sequential\n",
    "from keras.layers import Dense\n",
    "from keras.layers import LSTM\n",
    "from keras.layers import Dropout"
   ]
  },
  {
   "cell_type": "markdown",
   "metadata": {},
   "source": [
    "### Initializing the RNN"
   ]
  },
  {
   "cell_type": "code",
   "execution_count": 15,
   "metadata": {},
   "outputs": [],
   "source": [
    "regressor = Sequential()"
   ]
  },
  {
   "cell_type": "markdown",
   "metadata": {},
   "source": [
    "### Adding the first LSTM layer"
   ]
  },
  {
   "cell_type": "code",
   "execution_count": 16,
   "metadata": {},
   "outputs": [],
   "source": [
    "regressor.add(LSTM(\n",
    "    units=50,\n",
    "    return_sequences=True,\n",
    "    input_shape=(X_train.shape[1], 1)\n",
    "    )\n",
    ")\n",
    "\n",
    "# Dropout regularisation\n",
    "regressor.add(Dropout(\n",
    "    rate=0.2\n",
    "    )\n",
    ")"
   ]
  },
  {
   "cell_type": "markdown",
   "metadata": {},
   "source": [
    "### Adding extra LSTM layers"
   ]
  },
  {
   "cell_type": "markdown",
   "metadata": {},
   "source": [
    "#### 2nd Layer"
   ]
  },
  {
   "cell_type": "code",
   "execution_count": 17,
   "metadata": {},
   "outputs": [],
   "source": [
    "regressor.add(LSTM(\n",
    "    units=50,\n",
    "    return_sequences=True\n",
    "    )\n",
    ")\n",
    "\n",
    "# Dropout regularisation\n",
    "regressor.add(Dropout(\n",
    "    rate=0.2\n",
    "    )\n",
    ")"
   ]
  },
  {
   "cell_type": "markdown",
   "metadata": {},
   "source": [
    "#### 3rd Layer"
   ]
  },
  {
   "cell_type": "code",
   "execution_count": 18,
   "metadata": {},
   "outputs": [],
   "source": [
    "regressor.add(LSTM(\n",
    "    units=50,\n",
    "    return_sequences=True\n",
    "    )\n",
    ")\n",
    "\n",
    "# Dropout regularisation\n",
    "regressor.add(Dropout(\n",
    "    rate=0.2\n",
    "    )\n",
    ")"
   ]
  },
  {
   "cell_type": "markdown",
   "metadata": {},
   "source": [
    "#### 4th Layer"
   ]
  },
  {
   "cell_type": "code",
   "execution_count": 19,
   "metadata": {},
   "outputs": [],
   "source": [
    "regressor.add(LSTM(\n",
    "    units=50,\n",
    "    return_sequences=False   # Last layer\n",
    "    )\n",
    ")\n",
    "\n",
    "# Dropout regularisation\n",
    "regressor.add(Dropout(\n",
    "    rate=0.2\n",
    "    )\n",
    ")"
   ]
  },
  {
   "cell_type": "markdown",
   "metadata": {},
   "source": [
    "### Output Layer"
   ]
  },
  {
   "cell_type": "code",
   "execution_count": 20,
   "metadata": {},
   "outputs": [],
   "source": [
    "regressor.add(Dense(units=1))"
   ]
  },
  {
   "cell_type": "markdown",
   "metadata": {},
   "source": [
    "### Compiling the RNN"
   ]
  },
  {
   "cell_type": "code",
   "execution_count": 21,
   "metadata": {},
   "outputs": [],
   "source": [
    "regressor.compile(\n",
    "    optimizer='adam',\n",
    "    loss='mean_squared_error'\n",
    ")"
   ]
  },
  {
   "cell_type": "markdown",
   "metadata": {},
   "source": [
    "### Fitting the RNN to the Training set"
   ]
  },
  {
   "cell_type": "code",
   "execution_count": 22,
   "metadata": {},
   "outputs": [
    {
     "name": "stdout",
     "output_type": "stream",
     "text": [
      "Epoch 1/100\n",
      "38/38 [==============================] - 20s 142ms/step - loss: 0.0403\n",
      "Epoch 2/100\n",
      "38/38 [==============================] - 6s 148ms/step - loss: 0.0063\n",
      "Epoch 3/100\n",
      "38/38 [==============================] - 6s 145ms/step - loss: 0.0059\n",
      "Epoch 4/100\n",
      "38/38 [==============================] - 6s 152ms/step - loss: 0.0050\n",
      "Epoch 5/100\n",
      "38/38 [==============================] - 9s 252ms/step - loss: 0.0047\n",
      "Epoch 6/100\n",
      "38/38 [==============================] - 8s 196ms/step - loss: 0.0052\n",
      "Epoch 7/100\n",
      "38/38 [==============================] - 6s 154ms/step - loss: 0.0044\n",
      "Epoch 8/100\n",
      "38/38 [==============================] - 6s 151ms/step - loss: 0.0043\n",
      "Epoch 9/100\n",
      "38/38 [==============================] - 6s 155ms/step - loss: 0.0041\n",
      "Epoch 10/100\n",
      "38/38 [==============================] - 6s 158ms/step - loss: 0.0046\n",
      "Epoch 11/100\n",
      "38/38 [==============================] - 6s 147ms/step - loss: 0.0039\n",
      "Epoch 12/100\n",
      "38/38 [==============================] - 5s 144ms/step - loss: 0.0046\n",
      "Epoch 13/100\n",
      "38/38 [==============================] - 7s 173ms/step - loss: 0.0040\n",
      "Epoch 14/100\n",
      "38/38 [==============================] - 6s 158ms/step - loss: 0.0039\n",
      "Epoch 15/100\n",
      "38/38 [==============================] - 5s 145ms/step - loss: 0.0045\n",
      "Epoch 16/100\n",
      "38/38 [==============================] - 7s 182ms/step - loss: 0.0037\n",
      "Epoch 17/100\n",
      "38/38 [==============================] - 6s 147ms/step - loss: 0.0038\n",
      "Epoch 18/100\n",
      "38/38 [==============================] - 5s 134ms/step - loss: 0.0035\n",
      "Epoch 19/100\n",
      "38/38 [==============================] - 5s 135ms/step - loss: 0.0035\n",
      "Epoch 20/100\n",
      "38/38 [==============================] - 5s 135ms/step - loss: 0.0031\n",
      "Epoch 21/100\n",
      "38/38 [==============================] - 5s 138ms/step - loss: 0.0035\n",
      "Epoch 22/100\n",
      "38/38 [==============================] - 5s 139ms/step - loss: 0.0033\n",
      "Epoch 23/100\n",
      "38/38 [==============================] - 6s 171ms/step - loss: 0.0031\n",
      "Epoch 24/100\n",
      "38/38 [==============================] - 6s 158ms/step - loss: 0.0034\n",
      "Epoch 25/100\n",
      "38/38 [==============================] - 6s 146ms/step - loss: 0.0035\n",
      "Epoch 26/100\n",
      "38/38 [==============================] - 5s 142ms/step - loss: 0.0030\n",
      "Epoch 27/100\n",
      "38/38 [==============================] - 5s 143ms/step - loss: 0.0032\n",
      "Epoch 28/100\n",
      "38/38 [==============================] - 8s 215ms/step - loss: 0.0032\n",
      "Epoch 29/100\n",
      "38/38 [==============================] - 8s 205ms/step - loss: 0.0028\n",
      "Epoch 30/100\n",
      "38/38 [==============================] - 8s 205ms/step - loss: 0.0029\n",
      "Epoch 31/100\n",
      "38/38 [==============================] - 8s 202ms/step - loss: 0.0027\n",
      "Epoch 32/100\n",
      "38/38 [==============================] - 7s 193ms/step - loss: 0.0030\n",
      "Epoch 33/100\n",
      "38/38 [==============================] - 9s 233ms/step - loss: 0.0026\n",
      "Epoch 34/100\n",
      "38/38 [==============================] - 8s 198ms/step - loss: 0.0028\n",
      "Epoch 35/100\n",
      "38/38 [==============================] - 7s 190ms/step - loss: 0.0027\n",
      "Epoch 36/100\n",
      "38/38 [==============================] - 8s 222ms/step - loss: 0.0028\n",
      "Epoch 37/100\n",
      "38/38 [==============================] - 8s 219ms/step - loss: 0.0027\n",
      "Epoch 38/100\n",
      "38/38 [==============================] - 9s 226ms/step - loss: 0.0027\n",
      "Epoch 39/100\n",
      "38/38 [==============================] - 9s 226ms/step - loss: 0.0028\n",
      "Epoch 40/100\n",
      "38/38 [==============================] - 5s 142ms/step - loss: 0.0028\n",
      "Epoch 41/100\n",
      "38/38 [==============================] - 4s 119ms/step - loss: 0.0025\n",
      "Epoch 42/100\n",
      "38/38 [==============================] - 4s 111ms/step - loss: 0.0025\n",
      "Epoch 43/100\n",
      "38/38 [==============================] - 5s 119ms/step - loss: 0.0026\n",
      "Epoch 44/100\n",
      "38/38 [==============================] - 4s 116ms/step - loss: 0.0026\n",
      "Epoch 45/100\n",
      "38/38 [==============================] - 4s 114ms/step - loss: 0.0028\n",
      "Epoch 46/100\n",
      "38/38 [==============================] - 4s 113ms/step - loss: 0.0027\n",
      "Epoch 47/100\n",
      "38/38 [==============================] - 4s 112ms/step - loss: 0.0026\n",
      "Epoch 48/100\n",
      "38/38 [==============================] - 4s 112ms/step - loss: 0.0023\n",
      "Epoch 49/100\n",
      "38/38 [==============================] - 9s 246ms/step - loss: 0.0022\n",
      "Epoch 50/100\n",
      "38/38 [==============================] - 9s 239ms/step - loss: 0.0025\n",
      "Epoch 51/100\n",
      "38/38 [==============================] - 8s 209ms/step - loss: 0.0025\n",
      "Epoch 52/100\n",
      "38/38 [==============================] - 7s 193ms/step - loss: 0.0023\n",
      "Epoch 53/100\n",
      "38/38 [==============================] - 7s 192ms/step - loss: 0.0022\n",
      "Epoch 54/100\n",
      "38/38 [==============================] - 8s 218ms/step - loss: 0.0021\n",
      "Epoch 55/100\n",
      "38/38 [==============================] - 9s 239ms/step - loss: 0.0021\n",
      "Epoch 56/100\n",
      "38/38 [==============================] - 9s 233ms/step - loss: 0.0027\n",
      "Epoch 57/100\n",
      "38/38 [==============================] - 7s 192ms/step - loss: 0.0023\n",
      "Epoch 58/100\n",
      "38/38 [==============================] - 8s 222ms/step - loss: 0.0023\n",
      "Epoch 59/100\n",
      "38/38 [==============================] - 9s 245ms/step - loss: 0.0020\n",
      "Epoch 60/100\n",
      "38/38 [==============================] - 8s 203ms/step - loss: 0.0022\n",
      "Epoch 61/100\n",
      "38/38 [==============================] - 7s 196ms/step - loss: 0.0018\n",
      "Epoch 62/100\n",
      "38/38 [==============================] - 7s 195ms/step - loss: 0.0020\n",
      "Epoch 63/100\n",
      "38/38 [==============================] - 10s 271ms/step - loss: 0.0021\n",
      "Epoch 64/100\n",
      "38/38 [==============================] - 9s 240ms/step - loss: 0.0020\n",
      "Epoch 65/100\n",
      "38/38 [==============================] - 8s 217ms/step - loss: 0.0018\n",
      "Epoch 66/100\n",
      "38/38 [==============================] - 8s 201ms/step - loss: 0.0019\n",
      "Epoch 67/100\n",
      "38/38 [==============================] - 8s 215ms/step - loss: 0.0020\n",
      "Epoch 68/100\n",
      "38/38 [==============================] - 7s 174ms/step - loss: 0.0023\n",
      "Epoch 69/100\n",
      "38/38 [==============================] - 6s 154ms/step - loss: 0.0018\n",
      "Epoch 70/100\n",
      "38/38 [==============================] - 6s 148ms/step - loss: 0.0018\n",
      "Epoch 71/100\n",
      "38/38 [==============================] - 5s 118ms/step - loss: 0.0019\n",
      "Epoch 72/100\n",
      "38/38 [==============================] - 5s 119ms/step - loss: 0.0019\n",
      "Epoch 73/100\n",
      "38/38 [==============================] - 5s 125ms/step - loss: 0.0018\n",
      "Epoch 74/100\n",
      "38/38 [==============================] - 6s 151ms/step - loss: 0.0016\n",
      "Epoch 75/100\n",
      "38/38 [==============================] - 4s 111ms/step - loss: 0.0016\n",
      "Epoch 76/100\n",
      "38/38 [==============================] - 4s 109ms/step - loss: 0.0016\n",
      "Epoch 77/100\n",
      "38/38 [==============================] - 5s 122ms/step - loss: 0.0017\n",
      "Epoch 78/100\n",
      "38/38 [==============================] - 4s 108ms/step - loss: 0.0018\n",
      "Epoch 79/100\n",
      "38/38 [==============================] - 6s 157ms/step - loss: 0.0017\n",
      "Epoch 80/100\n",
      "38/38 [==============================] - 5s 124ms/step - loss: 0.0015\n",
      "Epoch 81/100\n",
      "38/38 [==============================] - 4s 117ms/step - loss: 0.0016\n",
      "Epoch 82/100\n",
      "38/38 [==============================] - 4s 110ms/step - loss: 0.0019\n",
      "Epoch 83/100\n",
      "38/38 [==============================] - 4s 117ms/step - loss: 0.0017\n",
      "Epoch 84/100\n",
      "38/38 [==============================] - 4s 101ms/step - loss: 0.0016\n",
      "Epoch 85/100\n",
      "38/38 [==============================] - 4s 102ms/step - loss: 0.0016\n",
      "Epoch 86/100\n",
      "38/38 [==============================] - 4s 106ms/step - loss: 0.0014\n",
      "Epoch 87/100\n",
      "38/38 [==============================] - 4s 109ms/step - loss: 0.0016\n",
      "Epoch 88/100\n",
      "38/38 [==============================] - 4s 103ms/step - loss: 0.0018\n",
      "Epoch 89/100\n",
      "38/38 [==============================] - 4s 99ms/step - loss: 0.0016\n",
      "Epoch 90/100\n",
      "38/38 [==============================] - 4s 106ms/step - loss: 0.0016\n",
      "Epoch 91/100\n",
      "38/38 [==============================] - 4s 103ms/step - loss: 0.0016\n",
      "Epoch 92/100\n",
      "38/38 [==============================] - 4s 103ms/step - loss: 0.0016\n",
      "Epoch 93/100\n",
      "38/38 [==============================] - 4s 103ms/step - loss: 0.0016\n",
      "Epoch 94/100\n",
      "38/38 [==============================] - 4s 100ms/step - loss: 0.0015\n",
      "Epoch 95/100\n",
      "38/38 [==============================] - 4s 104ms/step - loss: 0.0013\n",
      "Epoch 96/100\n",
      "38/38 [==============================] - 4s 102ms/step - loss: 0.0018\n",
      "Epoch 97/100\n",
      "38/38 [==============================] - 4s 100ms/step - loss: 0.0014\n",
      "Epoch 98/100\n",
      "38/38 [==============================] - 4s 99ms/step - loss: 0.0016\n",
      "Epoch 99/100\n",
      "38/38 [==============================] - 4s 103ms/step - loss: 0.0014\n",
      "Epoch 100/100\n",
      "38/38 [==============================] - 4s 104ms/step - loss: 0.0012\n"
     ]
    },
    {
     "data": {
      "text/plain": [
       "<keras.src.callbacks.History at 0x206fa614110>"
      ]
     },
     "execution_count": 22,
     "metadata": {},
     "output_type": "execute_result"
    }
   ],
   "source": [
    "regressor.fit(X_train, y_train, epochs=100, batch_size=32)"
   ]
  },
  {
   "cell_type": "markdown",
   "metadata": {},
   "source": [
    "## Predictions and result visualization"
   ]
  },
  {
   "cell_type": "markdown",
   "metadata": {},
   "source": [
    "### Real stock price"
   ]
  },
  {
   "cell_type": "code",
   "execution_count": 23,
   "metadata": {},
   "outputs": [],
   "source": [
    "dataset_test = pd.read_csv('Google_Stock_Price_Test.csv')\n",
    "real_stock_price = dataset_test.iloc[:, 1:2].values"
   ]
  },
  {
   "cell_type": "markdown",
   "metadata": {},
   "source": [
    "### Predicted stock price"
   ]
  },
  {
   "cell_type": "code",
   "execution_count": 26,
   "metadata": {},
   "outputs": [
    {
     "name": "stdout",
     "output_type": "stream",
     "text": [
      "1/1 [==============================] - 2s 2s/step\n"
     ]
    }
   ],
   "source": [
    "dataset_total = pd.concat(\n",
    "    (dataset_train['Open'], dataset_test['Open']),\n",
    "    axis=0\n",
    ")\n",
    "\n",
    "inputs = dataset_total[len(dataset_total)-len(dataset_test) - 60:].values\n",
    "inputs = inputs.reshape(-1, 1)\n",
    "\n",
    "# Scale inputs\n",
    "inputs = sc.transform(inputs)\n",
    "\n",
    "X_test = []\n",
    "for i in range(60, 80):\n",
    "    X_test.append(inputs[i-60:i, 0])\n",
    "\n",
    "X_test = np.array(X_test)\n",
    "\n",
    "X_test = np.reshape(X_test, (X_test.shape[0], X_test.shape[1], 1))\n",
    "\n",
    "\n",
    "predicted_stock_price = regressor.predict(X_test)\n",
    "\n",
    "# Inverse scaling\n",
    "predicted_stock_price = sc.inverse_transform(predicted_stock_price)"
   ]
  },
  {
   "cell_type": "code",
   "execution_count": 27,
   "metadata": {},
   "outputs": [
    {
     "name": "stdout",
     "output_type": "stream",
     "text": [
      "[[787.8202 ]\n",
      " [785.03326]\n",
      " [785.6338 ]\n",
      " [787.0714 ]\n",
      " [790.4713 ]\n",
      " [796.52783]\n",
      " [801.8289 ]\n",
      " [803.81903]\n",
      " [804.3209 ]\n",
      " [804.4449 ]\n",
      " [804.4834 ]\n",
      " [804.28754]\n",
      " [804.0203 ]\n",
      " [804.46265]\n",
      " [805.2831 ]\n",
      " [810.15546]\n",
      " [817.1501 ]\n",
      " [824.45905]\n",
      " [828.13824]\n",
      " [823.4442 ]]\n"
     ]
    }
   ],
   "source": [
    "print(predicted_stock_price)"
   ]
  },
  {
   "cell_type": "markdown",
   "metadata": {},
   "source": [
    "### Visualizing the results"
   ]
  },
  {
   "cell_type": "code",
   "execution_count": 30,
   "metadata": {},
   "outputs": [
    {
     "data": {
      "image/png": "[encoded data removed]",
      "text/plain": [
       "<Figure size 640x480 with 1 Axes>"
      ]
     },
     "metadata": {},
     "output_type": "display_data"
    }
   ],
   "source": [
    "plt.plot(real_stock_price, color='red', label='Real Stock Price')\n",
    "plt.plot(predicted_stock_price, color='blue', label='Predicted Stock Price')\n",
    "plt.xlabel('Time Days')\n",
    "plt.ylabel('Price $')\n",
    "plt.legend()\n",
    "plt.show()\n"
   ]
  }
 ],
 "metadata": {
  "kernelspec": {
   "display_name": "Python 3",
   "language": "python",
   "name": "python3"
  },
  "language_info": {
   "codemirror_mode": {
    "name": "ipython",
    "version": 3
   },
   "file_extension": ".py",
   "mimetype": "text/x-python",
   "name": "python",
   "nbconvert_exporter": "python",
   "pygments_lexer": "ipython3",
   "version": "3.11.2"
  },
  "orig_nbformat": 4
 },
 "nbformat": 4,
 "nbformat_minor": 2
}
